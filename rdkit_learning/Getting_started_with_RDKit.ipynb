{
 "cells": [
  {
   "cell_type": "markdown",
   "id": "c03712b9",
   "metadata": {},
   "source": [
    "### Reading and Writing Molecules"
   ]
  },
  {
   "cell_type": "code",
   "execution_count": 1,
   "id": "0d2ec7ef",
   "metadata": {},
   "outputs": [],
   "source": [
    "from rdkit import Chem"
   ]
  },
  {
   "cell_type": "code",
   "execution_count": 4,
   "id": "37cee294",
   "metadata": {},
   "outputs": [],
   "source": [
    "ibuprofen = \"CC(C)CC1=CC=C(C=C1)C(C)C(=O)O\"\n",
    "omeprazole = \"CC1=CN=C(C(=C1OC)C)CS(=O)C2=NC3=C(N2)C=CC(=C3)OC\""
   ]
  },
  {
   "cell_type": "code",
   "execution_count": 9,
   "id": "3e8cbe17",
   "metadata": {},
   "outputs": [
    {
     "data": {
      "text/plain": [
       "rdkit.Chem.rdchem.Mol"
      ]
     },
     "execution_count": 9,
     "metadata": {},
     "output_type": "execute_result"
    }
   ],
   "source": [
    "ibuprofen_mol = Chem.MolFromSmiles(ibuprofen)\n",
    "type(ibuprofen_mol) #If errror, ibuprofen_mol is none"
   ]
  },
  {
   "cell_type": "code",
   "execution_count": 30,
   "id": "dbbe603f",
   "metadata": {},
   "outputs": [],
   "source": [
    "molecules = [ibuprofen, omeprazole]\n",
    "\n",
    "#converting each molecule in a list\n",
    "molecules_mol = [Chem.MolFromSmiles(molecule) for molecule in molecules] "
   ]
  },
  {
   "cell_type": "markdown",
   "id": "097d2f14",
   "metadata": {},
   "source": [
    "### Reading sets of molecules"
   ]
  },
  {
   "cell_type": "code",
   "execution_count": 35,
   "id": "91253eb8",
   "metadata": {},
   "outputs": [
    {
     "name": "stdout",
     "output_type": "stream",
     "text": [
      "15\n",
      "24\n"
     ]
    }
   ],
   "source": [
    "#calculating number of atoms each molecule\n",
    "for molecule in molecules_mol:\n",
    "    if molecule is None: continue\n",
    "    print(molecule.GetNumAtoms())"
   ]
  },
  {
   "cell_type": "markdown",
   "id": "3dc5a9db",
   "metadata": {},
   "source": [
    "### Transforming sets of molecules"
   ]
  },
  {
   "cell_type": "code",
   "execution_count": 39,
   "id": "b723ea5a",
   "metadata": {},
   "outputs": [
    {
     "data": {
      "text/plain": [
       "['CC(C)Cc1ccc(C(C)C(=O)O)cc1', 'COc1ccc2[nH]c(S(=O)Cc3ncc(C)c(OC)c3C)nc2c1']"
      ]
     },
     "execution_count": 39,
     "metadata": {},
     "output_type": "execute_result"
    }
   ],
   "source": [
    "#Simple iteration for returning a list of smiles from mol\n",
    "\n",
    "smiles_from_mol = []\n",
    "for molecule in molecules_mol:\n",
    "    smiles_from_mol.append(Chem.MolToSmiles(molecule, isomericSmiles=False))\n",
    "smiles_from_mol"
   ]
  },
  {
   "cell_type": "markdown",
   "id": "db559b2d",
   "metadata": {},
   "source": [
    "If you’d like to have the Kekule form of the SMILES, first Kekulize the molecule, then use the “kekuleSmiles” option:"
   ]
  },
  {
   "cell_type": "code",
   "execution_count": 43,
   "id": "1dbe6637",
   "metadata": {},
   "outputs": [
    {
     "data": {
      "text/plain": [
       "['CC(C)CC1=CC=C(C(C)C(=O)O)C=C1',\n",
       " 'COC1=CC2=C(C=C1)NC(S(=O)CC1=NC=C(C)C(OC)=C1C)=N2']"
      ]
     },
     "execution_count": 43,
     "metadata": {},
     "output_type": "execute_result"
    }
   ],
   "source": [
    "#Simple iteration for returning a list of kekule smiles from mol\n",
    "kekule_from_mol = []\n",
    "\n",
    "for molecule in molecules_mol:\n",
    "    Chem.Kekulize(molecule)\n",
    "    kekule_from_mol.append(Chem.MolToSmiles(molecule, kekuleSmiles = True))\n",
    "kekule_from_mol"
   ]
  },
  {
   "cell_type": "markdown",
   "id": "79336c26",
   "metadata": {},
   "source": [
    "### Generating/working with 2D and 3D"
   ]
  },
  {
   "cell_type": "code",
   "execution_count": 60,
   "id": "c87c713b",
   "metadata": {},
   "outputs": [
    {
     "name": "stdout",
     "output_type": "stream",
     "text": [
      "\n",
      "     RDKit          2D\n",
      "\n",
      "  4  4  0  0  0  0  0  0  0  0999 V2000\n",
      "    1.0607    0.0000    0.0000 C   0  0  0  0  0  0  0  0  0  0  0  0\n",
      "   -0.0000   -1.0607    0.0000 C   0  0  0  0  0  0  0  0  0  0  0  0\n",
      "   -1.0607    0.0000    0.0000 C   0  0  0  0  0  0  0  0  0  0  0  0\n",
      "    0.0000    1.0607    0.0000 C   0  0  0  0  0  0  0  0  0  0  0  0\n",
      "  1  2  1  0\n",
      "  2  3  1  0\n",
      "  3  4  1  0\n",
      "  4  1  1  0\n",
      "M  END\n",
      "\n"
     ]
    },
    {
     "data": {
      "image/png": "[encoded data removed]",
      "text/plain": [
       "<rdkit.Chem.rdchem.Mol at 0x1e6c29aff40>"
      ]
     },
     "execution_count": 60,
     "metadata": {},
     "output_type": "execute_result"
    }
   ],
   "source": [
    "#Generating mol blocks, the're important to generate 3D structures\n",
    "m2 = Chem.MolFromSmiles(\"C1CCC1\")\n",
    "\n",
    "print(Chem.MolToMolBlock(m2))\n",
    "m2 #without the hydrogens"
   ]
  },
  {
   "cell_type": "markdown",
   "id": "764b6165",
   "metadata": {},
   "source": [
    "Nota-se que as coordenadas de cada carbono muda, após gerarmos um modelo 2D da molécula"
   ]
  },
  {
   "cell_type": "code",
   "execution_count": 63,
   "id": "51ad5540",
   "metadata": {},
   "outputs": [
    {
     "name": "stdout",
     "output_type": "stream",
     "text": [
      "\n",
      "     RDKit          3D\n",
      "\n",
      "  4  4  0  0  0  0  0  0  0  0999 V2000\n",
      "    1.0256    0.2491   -0.0964 C   0  0  0  0  0  0  0  0  0  0  0  0\n",
      "   -0.2041    0.9236    0.4320 C   0  0  0  0  0  0  0  0  0  0  0  0\n",
      "   -1.0435   -0.2466   -0.0266 C   0  0  0  0  0  0  0  0  0  0  0  0\n",
      "    0.2104   -0.9922   -0.3417 C   0  0  0  0  0  0  0  0  0  0  0  0\n",
      "  1  2  1  0\n",
      "  2  3  1  0\n",
      "  3  4  1  0\n",
      "  4  1  1  0\n",
      "M  END\n",
      "\n"
     ]
    },
    {
     "data": {
      "image/png": "[encoded data removed]",
      "text/plain": [
       "<rdkit.Chem.rdchem.Mol at 0x1e6c35f29e0>"
      ]
     },
     "execution_count": 63,
     "metadata": {},
     "output_type": "execute_result"
    }
   ],
   "source": [
    "from rdkit.Chem import AllChem\n",
    "AllChem.Compute2DCoords(m2)\n",
    "m2_with_hydrogen = Chem.AddHs(m2)\n",
    "\n",
    "AllChem.EmbedMolecule(m2_with_hydrogen, randomSeed = 0xf00d)\n",
    "\n",
    "print(Chem.MolToMolBlock(Chem.RemoveHs(m2_with_hydrogen)))\n",
    "m2_with_hydrogen #with the hydrogens"
   ]
  },
  {
   "cell_type": "code",
   "execution_count": null,
   "id": "31e85bc3",
   "metadata": {},
   "outputs": [],
   "source": []
  }
 ],
 "metadata": {
  "kernelspec": {
   "display_name": "Python 3 (ipykernel)",
   "language": "python",
   "name": "python3"
  },
  "language_info": {
   "codemirror_mode": {
    "name": "ipython",
    "version": 3
   },
   "file_extension": ".py",
   "mimetype": "text/x-python",
   "name": "python",
   "nbconvert_exporter": "python",
   "pygments_lexer": "ipython3",
   "version": "3.10.4"
  }
 },
 "nbformat": 4,
 "nbformat_minor": 5
}
