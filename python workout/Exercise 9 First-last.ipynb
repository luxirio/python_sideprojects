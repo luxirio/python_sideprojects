{
 "cells": [
  {
   "cell_type": "markdown",
   "metadata": {},
   "source": [
    "<h3>Exercise 9 First-last</h3>\n",
    "\n",
    "Write a function, firstlast, that takes a sequence (string, list, or tuple) and returns the first and last elements of that\n",
    "sequence, in a two-element sequence of the same type. So firstlast('abc') will return the string ac, while firstlast([1,2,3,4]) will return the list [1,4]."
   ]
  },
  {
   "cell_type": "code",
   "execution_count": 1,
   "metadata": {},
   "outputs": [],
   "source": [
    "def firstlast(s):\n",
    "        return s[:1] + s[-1:]"
   ]
  },
  {
   "cell_type": "code",
   "execution_count": 5,
   "metadata": {},
   "outputs": [
    {
     "data": {
      "text/plain": [
       "(1, [5, 3])"
      ]
     },
     "execution_count": 5,
     "metadata": {},
     "output_type": "execute_result"
    }
   ],
   "source": [
    "firstlast((1,2,4,[5,3]))"
   ]
  },
  {
   "cell_type": "markdown",
   "metadata": {},
   "source": [
    "Beyond Exercise:\n",
    "Write a function that takes a list or tuple of numbers. Return a two-element list, containing (respectively) the sum of the even-indexed numbers and the sum of the odd-indexed numbers. So calling the function as even_odd_sums([10, 20,30, 40, 50, 60]), you’ll get back [90, 120]."
   ]
  },
  {
   "cell_type": "code",
   "execution_count": 20,
   "metadata": {},
   "outputs": [],
   "source": [
    "def even_odd_sums(sum_numbers):\n",
    "    even = 0\n",
    "    odd = 0\n",
    "    for index in range(1,len(sum_numbers), 2):\n",
    "        even = even + sum_numbers[index]\n",
    "        \n",
    "    for index in range(0, len(sum_numbers),2):\n",
    "        odd = odd + sum_numbers[index]\n",
    "           \n",
    "    return [odd,even]"
   ]
  },
  {
   "cell_type": "code",
   "execution_count": 19,
   "metadata": {},
   "outputs": [
    {
     "data": {
      "text/plain": [
       "[90, 120]"
      ]
     },
     "execution_count": 19,
     "metadata": {},
     "output_type": "execute_result"
    }
   ],
   "source": [
    "even_odd_sums([10, 20,30, 40, 50, 60])"
   ]
  },
  {
   "cell_type": "markdown",
   "metadata": {},
   "source": [
    "Write a function that takes a list or tuple of numbers. Return the result of alternately adding and subtracting numbers from each other. So calling the function as plus_minus([10, 20, 30, 40, 50, 60]), you’ll get back the result of 10+20-30+40-50+60, or 50."
   ]
  },
  {
   "cell_type": "code",
   "execution_count": 29,
   "metadata": {},
   "outputs": [],
   "source": [
    "def plus_minus(numbers):\n",
    "    sum_plus_minus = numbers[0]\n",
    "    \n",
    "    for index in range(1, len(numbers)):\n",
    "        if index % 2 != 0:\n",
    "            sum_plus_minus += numbers[index]\n",
    "        else:\n",
    "            sum_plus_minus -= numbers[index]\n",
    "    \n",
    "    return sum_plus_minus"
   ]
  },
  {
   "cell_type": "code",
   "execution_count": 30,
   "metadata": {},
   "outputs": [
    {
     "data": {
      "text/plain": [
       "50"
      ]
     },
     "execution_count": 30,
     "metadata": {},
     "output_type": "execute_result"
    }
   ],
   "source": [
    "plus_minus([10, 20, 30, 40, 50, 60])"
   ]
  },
  {
   "cell_type": "markdown",
   "metadata": {},
   "source": [
    "Write a function that partly emulates the built-in zip function (http://mng.bz/Jyzv), taking any number of iterables and returning a list of tuples. Each tuple will contain one element from each of the iterables passed to the function.Thus, if I call myzip([10, 20, 30], 'abc'), the result will be [(10, 'a'), (20,'b'), (30, 'c')]. You can return a list (not an iterator) and can assume that all of the iterables are of the same length."
   ]
  },
  {
   "cell_type": "code",
   "execution_count": 162,
   "metadata": {},
   "outputs": [],
   "source": [
    "def myzip(*argv):\n"
   ]
  },
  {
   "cell_type": "code",
   "execution_count": 163,
   "metadata": {
    "scrolled": true
   },
   "outputs": [
    {
     "name": "stdout",
     "output_type": "stream",
     "text": [
      "[10, 20, 30]\n",
      "[10, 20, 30]\n",
      "abc\n",
      "abc\n"
     ]
    }
   ],
   "source": [
    "myzip([10, 20, 30], 'abc')"
   ]
  }
 ],
 "metadata": {
  "kernelspec": {
   "display_name": "Python 3",
   "language": "python",
   "name": "python3"
  },
  "language_info": {
   "codemirror_mode": {
    "name": "ipython",
    "version": 3
   },
   "file_extension": ".py",
   "mimetype": "text/x-python",
   "name": "python",
   "nbconvert_exporter": "python",
   "pygments_lexer": "ipython3",
   "version": "3.8.3"
  }
 },
 "nbformat": 4,
 "nbformat_minor": 4
}
