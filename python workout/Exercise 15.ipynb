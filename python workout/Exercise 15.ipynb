{
 "cells": [
  {
   "cell_type": "markdown",
   "id": "a92282e1",
   "metadata": {},
   "source": [
    "### Exercise 15 - Rainfall\n",
    "Users of your program will enter the name of a city; if the city name is blank, then the function prints a report (which I’ll describe) before exiting. If the city name isn’t blank, then the program should also ask the user how much rain has fallen in that city (typically measured in millimeters). After the user enters the quantity of rain, the program again asks them for a city name, rainfall amount, and so on—until the user presses Enter instead of typing the name of a city."
   ]
  },
  {
   "cell_type": "code",
   "execution_count": 1,
   "id": "23f856cb",
   "metadata": {},
   "outputs": [
    {
     "name": "stdout",
     "output_type": "stream",
     "text": [
      "Enter the city name: Cotia\n",
      "Enter mm rain: 20\n",
      "Enter the city name: Cotia\n",
      "Enter mm rain: 20\n",
      "Enter the city name: Osasco\n",
      "Enter mm rain: 40\n",
      "Enter the city name: Osasco\n",
      "Enter mm rain: 10\n",
      "Enter the city name: \n",
      "Cotia:40\n",
      "Osasco:50\n"
     ]
    }
   ],
   "source": [
    "def get_rainfall():\n",
    "    rainfall = {}\n",
    "    while True:\n",
    "        city_name = input('Enter the city name: ')\n",
    "        if not city_name:\n",
    "            break\n",
    "        \n",
    "        mm_rain = input('Enter mm rain: ')\n",
    "        rainfall[city_name] = rainfall.get(city_name, 0) + int(mm_rain)\n",
    "        \n",
    "    for city, rain in rainfall.items():\n",
    "        print(f'{city}:{rain}d')\n",
    "        \n",
    "get_rainfall()"
   ]
  },
  {
   "cell_type": "markdown",
   "id": "53b7a652",
   "metadata": {},
   "source": [
    "### Beyond the exercise \n",
    "Instead of printing just the total rainfall for each city, print the total rainfall and the average rainfall for reported days. Thus, if you were to enter 30, 20, and 40 for Boston, you would see that the total was 90 and the average was 30."
   ]
  },
  {
   "cell_type": "code",
   "execution_count": 62,
   "id": "0fd26c44",
   "metadata": {},
   "outputs": [
    {
     "name": "stdout",
     "output_type": "stream",
     "text": [
      "Enter the city name: Cotia\n",
      "Enter the mm: 20\n",
      "Enter the city name: Cotia\n",
      "Enter the mm: 30\n",
      "Enter the city name: \n",
      " The city Cotia rained a total of 50 mms and the average was 25.0 mms\n"
     ]
    }
   ],
   "source": [
    "from collections import Counter\n",
    "\n",
    "def get_rain_average():\n",
    "    rainfall = {}\n",
    "    list_of_cities = []\n",
    "    while True:\n",
    "        city_name = input('Enter the city name: ').strip()\n",
    "        \n",
    "        if not city_name:\n",
    "            break\n",
    "        \n",
    "        mm_rain = int(input('Enter the mm: '))\n",
    "        \n",
    "        \n",
    "        rainfall[city_name] = rainfall.get(city_name, 0) + mm_rain\n",
    "        list_of_cities.append(city_name)\n",
    "        \n",
    "    for city_name, mm_rain in rainfall.items():\n",
    "        print(f' The city {city_name} rained a total of {mm_rain} mms'\n",
    "              f' and the average was {mm_rain/int(Counter(list_of_cities)[city_name])} mms')\n",
    "get_rain_average()"
   ]
  },
  {
   "cell_type": "markdown",
   "id": "85af9ba6",
   "metadata": {},
   "source": [
    "Read through a text file on disk. Use a dict to track how many words of each length are in the file—that is, how many three-letter words, four-letter words, five-letter words, and so on. Display your results."
   ]
  },
  {
   "cell_type": "code",
   "execution_count": 97,
   "id": "b6cb84ec",
   "metadata": {},
   "outputs": [
    {
     "name": "stdout",
     "output_type": "stream",
     "text": [
      "Tamanho da palavra 1: Quantidade 1\n",
      "Tamanho da palavra 2: Quantidade 2\n",
      "Tamanho da palavra 3: Quantidade 1\n",
      "Tamanho da palavra 4: Quantidade 1\n",
      "Tamanho da palavra 8: Quantidade 1\n"
     ]
    }
   ],
   "source": [
    "text = open(\"test_txt.txt\")\n",
    "text = text.read()\n",
    "\n",
    "#transforming as list\n",
    "text_as_list = text.split()\n",
    "\n",
    "text = [\"Oi\", \"Eu\", \"Sou\", \"O\", \"Goku\", \"Saiyajin\"]\n",
    "\n",
    "def len_word_counter():\n",
    "    counter = {}\n",
    "    \n",
    "    for word in text:\n",
    "        size = str(len(word))\n",
    "        counter[size] = counter.get(size, 0) + 1\n",
    "        \n",
    "    for len_word, count in sorted(counter.items()):\n",
    "        print(f'Tamanho da palavra {len_word}: Quantidade {count}')\n",
    "        \n",
    "len_word_counter()"
   ]
  }
 ],
 "metadata": {
  "kernelspec": {
   "display_name": "Python 3 (ipykernel)",
   "language": "python",
   "name": "python3"
  },
  "language_info": {
   "codemirror_mode": {
    "name": "ipython",
    "version": 3
   },
   "file_extension": ".py",
   "mimetype": "text/x-python",
   "name": "python",
   "nbconvert_exporter": "python",
   "pygments_lexer": "ipython3",
   "version": "3.8.13"
  }
 },
 "nbformat": 4,
 "nbformat_minor": 5
}
