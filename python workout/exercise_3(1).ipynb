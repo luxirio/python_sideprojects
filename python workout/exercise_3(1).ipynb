{
 "cells": [
  {
   "cell_type": "markdown",
   "metadata": {},
   "source": [
    "<h3>Exercise 3</h3>\n",
    "For this exercise, then, we’ll assume that you run 10 km each day as part of your exercise regime. You want to know how long, on average, that run takes. Write a function (run_timing) that asks how long it took for you to run 10 km.\n",
    "The function continues to ask how long (in minutes) it took for additional runs, until the user presses Enter. At that point, the function exits—but only after calculating and displaying the average time that the 10 km runs took."
   ]
  },
  {
   "cell_type": "code",
   "execution_count": 3,
   "metadata": {},
   "outputs": [],
   "source": [
    "def timing_run():\n",
    "    number_of_runs = 0\n",
    "    total_km = 0\n",
    "    while True:\n",
    "        run = input(\"Enter your run time for 10km: \")\n",
    "        if not run:\n",
    "            break\n",
    "        total_km += float(run)\n",
    "        number_of_runs += 1\n",
    "    return print(f'Your average of {total_km/number_of_runs} in {number_of_runs} runs ')     "
   ]
  },
  {
   "cell_type": "code",
   "execution_count": 4,
   "metadata": {},
   "outputs": [
    {
     "name": "stdout",
     "output_type": "stream",
     "text": [
      "Enter your run time for 10km: 10\n",
      "Enter your run time for 10km: 20\n",
      "Enter your run time for 10km: 30\n",
      "Enter your run time for 10km: \n",
      "Your average of 20.0 in 3 runs \n"
     ]
    }
   ],
   "source": [
    "timing_run()"
   ]
  },
  {
   "cell_type": "markdown",
   "metadata": {},
   "source": [
    "Beyond exercise:\n",
    "Write a function that takes a float and two integers (before and after). The function should return a float consisting of before digits before the decimal\n",
    "point and after digits after. Thus, if we call the function with 1234.5678, 2 and 3, the return value should be 34.567."
   ]
  },
  {
   "cell_type": "code",
   "execution_count": 78,
   "metadata": {},
   "outputs": [],
   "source": [
    "import math\n",
    "def before_after():\n",
    "    number = float(input(\"Enter the number you want to transform:\"))\n",
    "    before = int(input(\"Enter the number of the  digits before the decimals:\"))\n",
    "    after = int(input(\"Enter the number after the decimals:\"))\n",
    "    \n",
    "    before = 10**before\n",
    "    before_decimals = int((number%before))\n",
    "    \n",
    "    decimals = int((number-math.floor(number))*(10**after))\n",
    "    decimals_final = (decimals/(10**after))\n",
    "    \n",
    "    result = before_decimals + decimals_final\n",
    "    \n",
    "    return result"
   ]
  },
  {
   "cell_type": "code",
   "execution_count": 80,
   "metadata": {},
   "outputs": [
    {
     "name": "stdout",
     "output_type": "stream",
     "text": [
      "Enter the number you want to transform:1234.5678\n",
      "Enter the number of the  digits before the decimals:2\n",
      "Enter the number after the decimals:3\n"
     ]
    },
    {
     "data": {
      "text/plain": [
       "34.567"
      ]
     },
     "execution_count": 80,
     "metadata": {},
     "output_type": "execute_result"
    }
   ],
   "source": [
    "before_after()"
   ]
  }
 ],
 "metadata": {
  "kernelspec": {
   "display_name": "Python 3",
   "language": "python",
   "name": "python3"
  },
  "language_info": {
   "codemirror_mode": {
    "name": "ipython",
    "version": 3
   },
   "file_extension": ".py",
   "mimetype": "text/x-python",
   "name": "python",
   "nbconvert_exporter": "python",
   "pygments_lexer": "ipython3",
   "version": "3.8.3"
  }
 },
 "nbformat": 4,
 "nbformat_minor": 4
}
