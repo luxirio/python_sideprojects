{
 "cells": [
  {
   "cell_type": "markdown",
   "metadata": {},
   "source": [
    "<h3>EXERCISE 1 - Number guessing game</h3>"
   ]
  },
  {
   "cell_type": "markdown",
   "metadata": {},
   "source": [
    "<h4>Below is the main ideia of exercise number 1:</h4>\n",
    "\n",
    "Write a function (guessing_game) that takes no arguments.\n",
    "\n",
    "When run, the function chooses a random integer between 0 and 100 (inclusive).\n",
    "Then ask the user to guess what number has been chosen.\n",
    "\n",
    "Each time the user enters a guess, the program indicates one of the following: Too high, Too low, Just right\n",
    "If the user guesses correctly, the program exits. Otherwise, the user is asked to\n",
    "try again.\n",
    "\n",
    "The program only exits after the user guesses correctly"
   ]
  },
  {
   "cell_type": "code",
   "execution_count": 2,
   "metadata": {},
   "outputs": [],
   "source": [
    "#importing the main libraries\n",
    "import random "
   ]
  },
  {
   "cell_type": "code",
   "execution_count": 5,
   "metadata": {},
   "outputs": [],
   "source": [
    "#defining the number for the user\n",
    "def reset_number():\n",
    "    number = random.randint(1,100)"
   ]
  },
  {
   "cell_type": "code",
   "execution_count": 6,
   "metadata": {},
   "outputs": [],
   "source": [
    "def guessing_game():\n",
    "    while True:\n",
    "        guess = input(\"This is a guessing game. Please enter the guessing number, between 1 and 100: \\n\")\n",
    "        guess_number = int(guess)\n",
    "        if guess_number == number:\n",
    "            print(f'You have finally found it!, the number was {number}' )\n",
    "            break\n",
    "        elif guess_number > number:\n",
    "            print(\"Too high!\")\n",
    "        else: \n",
    "            print(\"Too low\")"
   ]
  },
  {
   "cell_type": "code",
   "execution_count": 10,
   "metadata": {},
   "outputs": [],
   "source": [
    "reset_number()#not working... why though?"
   ]
  },
  {
   "cell_type": "code",
   "execution_count": 11,
   "metadata": {},
   "outputs": [
    {
     "name": "stdout",
     "output_type": "stream",
     "text": [
      "This is a guessing game. Please enter the guessing number, between 1 and 100: \n",
      "91\n",
      "You have finally found it!, the number was 91\n"
     ]
    }
   ],
   "source": [
    "guessing_game()"
   ]
  }
 ],
 "metadata": {
  "kernelspec": {
   "display_name": "Python 3",
   "language": "python",
   "name": "python3"
  },
  "language_info": {
   "codemirror_mode": {
    "name": "ipython",
    "version": 3
   },
   "file_extension": ".py",
   "mimetype": "text/x-python",
   "name": "python",
   "nbconvert_exporter": "python",
   "pygments_lexer": "ipython3",
   "version": "3.8.3"
  }
 },
 "nbformat": 4,
 "nbformat_minor": 4
}
