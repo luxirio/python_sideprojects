{
 "cells": [
  {
   "cell_type": "code",
   "execution_count": 30,
   "id": "530bbced",
   "metadata": {},
   "outputs": [],
   "source": [
    "def strsort(string):\n",
    "    return \"\".join(sorted(string))"
   ]
  },
  {
   "cell_type": "code",
   "execution_count": 34,
   "id": "e9d90299",
   "metadata": {},
   "outputs": [
    {
     "data": {
      "text/plain": [
       "'abcdjk'"
      ]
     },
     "execution_count": 34,
     "metadata": {},
     "output_type": "execute_result"
    }
   ],
   "source": [
    "strsort(\"cdbajk\")"
   ]
  }
 ],
 "metadata": {
  "kernelspec": {
   "display_name": "Python 3 (ipykernel)",
   "language": "python",
   "name": "python3"
  },
  "language_info": {
   "codemirror_mode": {
    "name": "ipython",
    "version": 3
   },
   "file_extension": ".py",
   "mimetype": "text/x-python",
   "name": "python",
   "nbconvert_exporter": "python",
   "pygments_lexer": "ipython3",
   "version": "3.9.12"
  }
 },
 "nbformat": 4,
 "nbformat_minor": 5
}
