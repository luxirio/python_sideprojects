{
 "cells": [
  {
   "cell_type": "markdown",
   "id": "21ad26bd",
   "metadata": {},
   "source": [
    "### EXERCISE 16 ■ Dictdiff\n",
    "\n",
    "If there are no differences between the dicts, dictdiff returns an empty dict. For each key-value pair that differs, the return value of dictdiff will have a key-value pair in which the value is a list containing the values from the two different dicts. If one of the dicts doesn’t contain that key, it should contain None. The following provides some examples:"
   ]
  },
  {
   "cell_type": "code",
   "execution_count": 37,
   "id": "06fe2731",
   "metadata": {},
   "outputs": [],
   "source": [
    "d1 = {'a':1, 'b':2, 'c':3}\n",
    "d2 = {'a':1, 'b':2, 'd':4}\n",
    "#d2 = {'a':1, 'b':2, 'c':4}"
   ]
  },
  {
   "cell_type": "code",
   "execution_count": 38,
   "id": "c61ed428",
   "metadata": {},
   "outputs": [
    {
     "name": "stdout",
     "output_type": "stream",
     "text": [
      "{'c': [3, None], 'd': [None, 4]}\n"
     ]
    }
   ],
   "source": [
    "def dictdiff():\n",
    "    output = {}\n",
    "    \n",
    "    for key, value in d1.items():\n",
    "        if key not in list(d2.keys()):\n",
    "            output[key] = [d1[key], None]\n",
    "            \n",
    "        elif (d1[key] != d2[key]):\n",
    "            output[key] = [d1[key], d2[key]]\n",
    "\n",
    "    \n",
    "    for key2, value2 in d2.items():\n",
    "        if key2 not in list(d1.keys()):\n",
    "            output[key2] =[None, d2[key2]]\n",
    "        \n",
    "            \n",
    "    print(output)\n",
    "            \n",
    "\n",
    "dictdiff()"
   ]
  },
  {
   "cell_type": "code",
   "execution_count": 60,
   "id": "95097e69",
   "metadata": {},
   "outputs": [
    {
     "data": {
      "text/plain": [
       "{'c': [3, None], 'd': [None, 4]}"
      ]
     },
     "execution_count": 60,
     "metadata": {},
     "output_type": "execute_result"
    }
   ],
   "source": [
    "def dictdiff_book():\n",
    "    output = {}\n",
    "    \n",
    "    all_keys = d1.keys() | d2.keys()\n",
    "    \n",
    "    for key in all_keys:\n",
    "        if d1.get(key) != d2.get(key):\n",
    "            output[key] = [d1.get(key), d2.get(key)]\n",
    "    \n",
    "    return output\n",
    "            \n",
    "dictdiff_book()"
   ]
  },
  {
   "cell_type": "code",
   "execution_count": null,
   "id": "ccd15c84",
   "metadata": {},
   "outputs": [],
   "source": []
  }
 ],
 "metadata": {
  "kernelspec": {
   "display_name": "Python 3 (ipykernel)",
   "language": "python",
   "name": "python3"
  },
  "language_info": {
   "codemirror_mode": {
    "name": "ipython",
    "version": 3
   },
   "file_extension": ".py",
   "mimetype": "text/x-python",
   "name": "python",
   "nbconvert_exporter": "python",
   "pygments_lexer": "ipython3",
   "version": "3.8.13"
  }
 },
 "nbformat": 4,
 "nbformat_minor": 5
}
