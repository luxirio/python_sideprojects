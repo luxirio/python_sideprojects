{
 "cells": [
  {
   "cell_type": "code",
   "execution_count": 49,
   "id": "90ea5e5a",
   "metadata": {},
   "outputs": [],
   "source": [
    "names = [\"Gustavo Trossini\", \"Albert Einstein\"]\n",
    "\n",
    "def substitute_names(names):\n",
    "    substituted = []\n",
    "    for i in range(0,len(names)):\n",
    "            substituted.append(\"_\"*len(names[i]))\n",
    "    return substituted\n",
    "        "
   ]
  },
  {
   "cell_type": "code",
   "execution_count": 51,
   "id": "7402dcb4",
   "metadata": {},
   "outputs": [
    {
     "data": {
      "text/plain": [
       "['________________', '_______________']"
      ]
     },
     "execution_count": 51,
     "metadata": {},
     "output_type": "execute_result"
    }
   ],
   "source": [
    "substitute_names(names)"
   ]
  }
 ],
 "metadata": {
  "kernelspec": {
   "display_name": "Python 3 (ipykernel)",
   "language": "python",
   "name": "python3"
  },
  "language_info": {
   "codemirror_mode": {
    "name": "ipython",
    "version": 3
   },
   "file_extension": ".py",
   "mimetype": "text/x-python",
   "name": "python",
   "nbconvert_exporter": "python",
   "pygments_lexer": "ipython3",
   "version": "3.9.12"
  }
 },
 "nbformat": 4,
 "nbformat_minor": 5
}
