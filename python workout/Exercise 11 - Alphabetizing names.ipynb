{
 "cells": [
  {
   "cell_type": "markdown",
   "id": "0b7f1f53",
   "metadata": {},
   "source": [
    "### Exercise 11 - Alphabetizing names\n",
    "\n",
    "Write a function, alphabetize_names, that assumes the existence of a PEOPLE constant defined as shown in the code. The function should return the list of dicts, but sorted by last name and then by first name"
   ]
  },
  {
   "cell_type": "code",
   "execution_count": 25,
   "id": "67ee9f24",
   "metadata": {},
   "outputs": [],
   "source": [
    "PEOPLE = [{\"first\": \"Reuven\", \"last\":\"Lerner\", \"email\": \"reuven@lerner.co.il\"},\n",
    "         {\"first\": \"Donald\", \"last\": \"Trump\", \"email\": \"president@whitehouse.gov\"},\n",
    "         {\"first\": \"Vladimir\", \"last\": \"Putin\", \"email\": \"president@kremvax.ru\"}]"
   ]
  },
  {
   "cell_type": "code",
   "execution_count": 26,
   "id": "68f57dc5",
   "metadata": {},
   "outputs": [
    {
     "data": {
      "text/plain": [
       "[{'first': 'Reuven', 'last': 'Lerner', 'email': 'reuven@lerner.co.il'},\n",
       " {'first': 'Donald', 'last': 'Trump', 'email': 'president@whitehouse.gov'},\n",
       " {'first': 'Vladimir', 'last': 'Putin', 'email': 'president@kremvax.ru'}]"
      ]
     },
     "execution_count": 26,
     "metadata": {},
     "output_type": "execute_result"
    }
   ],
   "source": [
    "PEOPLE"
   ]
  },
  {
   "cell_type": "markdown",
   "id": "8889353d",
   "metadata": {},
   "source": [
    "Thus, we can sort elements of a list by saying"
   ]
  },
  {
   "cell_type": "code",
   "execution_count": 35,
   "id": "757894da",
   "metadata": {},
   "outputs": [
    {
     "name": "stdout",
     "output_type": "stream",
     "text": [
      "('c', 'e')\n",
      "(30, 50)\n"
     ]
    }
   ],
   "source": [
    "import operator \n",
    "s = \"abcdef\"\n",
    "t = (10, 20, 30, 40, 50, 60)\n",
    "\n",
    "get_2_and_4 = operator.itemgetter(2,4)\n",
    "print(get_2_and_4(s))\n",
    "print(get_2_and_4(t))"
   ]
  },
  {
   "cell_type": "code",
   "execution_count": 40,
   "id": "3b154b71",
   "metadata": {},
   "outputs": [
    {
     "data": {
      "text/plain": [
       "[{'first': 'Reuven', 'last': 'Lerner', 'email': 'reuven@lerner.co.il'},\n",
       " {'first': 'Vladimir', 'last': 'Putin', 'email': 'president@kremvax.ru'},\n",
       " {'first': 'Donald', 'last': 'Trump', 'email': 'president@whitehouse.gov'}]"
      ]
     },
     "execution_count": 40,
     "metadata": {},
     "output_type": "execute_result"
    }
   ],
   "source": [
    "sorted(PEOPLE, key = operator.itemgetter(\"last\", \"first\"))"
   ]
  },
  {
   "cell_type": "code",
   "execution_count": 47,
   "id": "9086bea0",
   "metadata": {},
   "outputs": [
    {
     "data": {
      "text/plain": [
       "[{'first': 'Reuven', 'last': 'Lerner', 'email': 'reuven@lerner.co.il'},\n",
       " {'first': 'Vladimir', 'last': 'Putin', 'email': 'president@kremvax.ru'},\n",
       " {'first': 'Donald', 'last': 'Trump', 'email': 'president@whitehouse.gov'}]"
      ]
     },
     "execution_count": 47,
     "metadata": {},
     "output_type": "execute_result"
    }
   ],
   "source": [
    "sorted(PEOPLE, key = lambda x: [x[\"last\"], x[\"first\"]])"
   ]
  },
  {
   "cell_type": "markdown",
   "id": "4e1699ad",
   "metadata": {},
   "source": [
    "### Beyond the exercise\n",
    "\n",
    "Given a sequence of positive and negative numbers, sort them by absolute value."
   ]
  },
  {
   "cell_type": "code",
   "execution_count": 123,
   "id": "ab32cf71",
   "metadata": {},
   "outputs": [
    {
     "data": {
      "text/plain": [
       "[-1, 2, -4, 5, 6, -7]"
      ]
     },
     "execution_count": 123,
     "metadata": {},
     "output_type": "execute_result"
    }
   ],
   "source": [
    "my_numbers = [-1, -4, 2, 5, 6, -7]\n",
    "\n",
    "sorted(my_numbers, key = abs)"
   ]
  },
  {
   "cell_type": "markdown",
   "id": "ceeaff12",
   "metadata": {},
   "source": [
    "Given a list of strings, sort them according to how many vowels they contain."
   ]
  },
  {
   "cell_type": "code",
   "execution_count": 99,
   "id": "b5eca362",
   "metadata": {},
   "outputs": [],
   "source": [
    "my_string_vowels = [\"aaabc\", \"abc\", \"aaaabc\", \"aabc\"]"
   ]
  },
  {
   "cell_type": "code",
   "execution_count": 102,
   "id": "cd33011c",
   "metadata": {},
   "outputs": [],
   "source": [
    "#Solution I\n",
    "def counting_vowels(string):\n",
    "    count_vowel = sum(1 for character in string if character in \"aeiouAEIOU\")\n",
    "    return(count_vowel)"
   ]
  },
  {
   "cell_type": "code",
   "execution_count": 103,
   "id": "54cd92d6",
   "metadata": {},
   "outputs": [
    {
     "data": {
      "text/plain": [
       "['aaaabc', 'aaabc', 'aabc', 'abc']"
      ]
     },
     "execution_count": 103,
     "metadata": {},
     "output_type": "execute_result"
    }
   ],
   "source": [
    "sorted(my_string_vowels, key = counting_vowels, reverse = True)"
   ]
  },
  {
   "cell_type": "code",
   "execution_count": 120,
   "id": "e8ae65f3",
   "metadata": {},
   "outputs": [
    {
     "data": {
      "text/plain": [
       "['aaaabc', 'aaabc', 'aabc', 'abc']"
      ]
     },
     "execution_count": 120,
     "metadata": {},
     "output_type": "execute_result"
    }
   ],
   "source": [
    "#Solution II (oneliner)\n",
    "sorted(my_string_vowels, \n",
    "       key = lambda string: sum(1 for char in string if char in \"aeiouAEIOU\"), reverse = True)"
   ]
  },
  {
   "cell_type": "markdown",
   "id": "416f60ba",
   "metadata": {},
   "source": [
    "Given a list of lists, with each list containing zero or more numbers, sort by the sum of each inner list’s numbers."
   ]
  },
  {
   "cell_type": "code",
   "execution_count": 127,
   "id": "34041923",
   "metadata": {},
   "outputs": [
    {
     "data": {
      "text/plain": [
       "[[18, 9], [3, 4, 3], [1, 2, 3], [0]]"
      ]
     },
     "execution_count": 127,
     "metadata": {},
     "output_type": "execute_result"
    }
   ],
   "source": [
    "number_list = ([1,2,3], [3,4,3], [18, 9], [0])\n",
    "\n",
    "#One liner\n",
    "sorted(number_list, key = lambda number_list: sum(number for number in number_list), reverse= True)\n",
    "sorted(number_list, key = sum, reverse= True) #solucao do artur\n"
   ]
  }
 ],
 "metadata": {
  "kernelspec": {
   "display_name": "Python 3 (ipykernel)",
   "language": "python",
   "name": "python3"
  },
  "language_info": {
   "codemirror_mode": {
    "name": "ipython",
    "version": 3
   },
   "file_extension": ".py",
   "mimetype": "text/x-python",
   "name": "python",
   "nbconvert_exporter": "python",
   "pygments_lexer": "ipython3",
   "version": "3.9.12"
  }
 },
 "nbformat": 4,
 "nbformat_minor": 5
}
