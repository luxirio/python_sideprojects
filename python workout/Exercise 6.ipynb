{
 "cells": [
  {
   "cell_type": "markdown",
   "metadata": {},
   "source": [
    "<h3>Exercise 6</h3>"
   ]
  },
  {
   "cell_type": "code",
   "execution_count": 14,
   "metadata": {},
   "outputs": [
    {
     "data": {
      "text/plain": [
       "WindowsPath('C:/Users/gusta/python workout')"
      ]
     },
     "execution_count": 14,
     "metadata": {},
     "output_type": "execute_result"
    }
   ],
   "source": [
    "from pathlib import Path\n",
    "here = Path(_dh[-1])\n",
    "here"
   ]
  },
  {
   "cell_type": "code",
   "execution_count": 15,
   "metadata": {},
   "outputs": [],
   "source": [
    "def pig_latin(palavra):\n",
    "    \n",
    "    palavra = palavra.lower()\n",
    "    punctuation = False\n",
    "    \n",
    "    if palavra[-1] in (\"!?.,;\"):\n",
    "        punctuation = palavra[-1]\n",
    "        palavra = palavra[:-1]\n",
    "    \n",
    "    if palavra[0] in ('aeiouAEIOU'):\n",
    "        palavra = palavra + 'way'\n",
    "        \n",
    "    else:\n",
    "        palavra = palavra[1:]+palavra[0]+\"ay\"\n",
    "        \n",
    "    if punctuation:\n",
    "        return (palavra+punctuation).capitalize()\n",
    "\n",
    "    return palavra"
   ]
  },
  {
   "cell_type": "code",
   "execution_count": 6,
   "metadata": {},
   "outputs": [],
   "source": [
    "sentenca = \"this is a test translation\"\n",
    "\n",
    "def pl_translation(sentenca):\n",
    "    \n",
    "    palavras = sentenca.split()\n",
    "    translation = []\n",
    "    for pal in palavras:\n",
    "        translation.append(pig_latin(pal))\n",
    "        \n",
    "    return \" \".join(translation)"
   ]
  },
  {
   "cell_type": "code",
   "execution_count": 16,
   "metadata": {},
   "outputs": [
    {
     "data": {
      "text/plain": [
       "'histay isway away esttay ranslationtay'"
      ]
     },
     "execution_count": 16,
     "metadata": {},
     "output_type": "execute_result"
    }
   ],
   "source": [
    "pl_translation(sentenca)"
   ]
  },
  {
   "cell_type": "code",
   "execution_count": 91,
   "metadata": {},
   "outputs": [
    {
     "data": {
      "text/plain": [
       "'Lorem Ipsum unknown not the recently'"
      ]
     },
     "execution_count": 91,
     "metadata": {},
     "output_type": "execute_result"
    }
   ],
   "source": [
    "with open(here/\"lorem_ipsum.txt\", \"r\", encoding = \"utf-8\") as texto:\n",
    "    open_text = [linha.split(\"\\n\") for linha in texto]\n",
    "\n",
    "\n",
    "text = [[open_text[k][0] for k in range(0, len(open_text))][k].split() \n",
    "        for k in range(0, len(text))]\n",
    "\n",
    "#text_splitted = [text[k].split() for k in range(0, len(text))]\n",
    "\n",
    "\" \".join(text[i][i] for i in range(0, len(text)))"
   ]
  },
  {
   "cell_type": "code",
   "execution_count": 159,
   "metadata": {
    "scrolled": true
   },
   "outputs": [
    {
     "data": {
      "text/plain": [
       "['abc jkl stu', 'def mno vwx', 'ghi pqr yz']"
      ]
     },
     "execution_count": 159,
     "metadata": {},
     "output_type": "execute_result"
    }
   ],
   "source": [
    "x = ['abc def ghi', 'jkl mno pqr', 'stu vwx yz']\n",
    "x = [x[k].split() for k in range(0, len(x))]\n",
    "\n",
    "output = []\n",
    "output_1 = []\n",
    "\n",
    "for coluna in range(0, len(x)):\n",
    "    output = []\n",
    "    for linha in range(0, len(x)):\n",
    "        output.append(x[linha][coluna])\n",
    "    output_1.append(\" \".join(output))\n",
    "    \n",
    "output_1"
   ]
  },
  {
   "cell_type": "code",
   "execution_count": null,
   "metadata": {},
   "outputs": [],
   "source": []
  }
 ],
 "metadata": {
  "kernelspec": {
   "display_name": "Python 3",
   "language": "python",
   "name": "python3"
  },
  "language_info": {
   "codemirror_mode": {
    "name": "ipython",
    "version": 3
   },
   "file_extension": ".py",
   "mimetype": "text/x-python",
   "name": "python",
   "nbconvert_exporter": "python",
   "pygments_lexer": "ipython3",
   "version": "3.8.3"
  }
 },
 "nbformat": 4,
 "nbformat_minor": 4
}
