{
 "cells": [
  {
   "cell_type": "markdown",
   "id": "3455e760",
   "metadata": {},
   "source": [
    "<h3>Exercise 7 - Ubbi Dubbi</h3>"
   ]
  },
  {
   "cell_type": "markdown",
   "id": "08d1d1db",
   "metadata": {},
   "source": [
    "The task here is to ask the user for a word, and then to translate that word into Ubbi Dubbi. This is a slightly different task than we had with Pig Latin, because we need to operate on a letter-by-letter basis. We can’t simply analyze the word and produce output based on the entire word. Moreover, we have to avoid getting ourselves into an infinite loop, in which we try to add ub before the u in ub."
   ]
  },
  {
   "cell_type": "code",
   "execution_count": 24,
   "id": "c665e26b",
   "metadata": {},
   "outputs": [],
   "source": [
    "palavra = \"elephant\"\n",
    "\n",
    "def ubbi_dubbi(palavra):\n",
    "    lista = []\n",
    "    for i in range(0, len(palavra)):\n",
    "        if palavra[i] in 'aeiou':\n",
    "            lista.append(\"ub\")\n",
    "            lista.append(palavra[i])\n",
    "        else:\n",
    "            lista.append(palavra[i])\n",
    "    print(''.join(lista))          \n",
    "    "
   ]
  },
  {
   "cell_type": "code",
   "execution_count": 25,
   "id": "0d8bbcd8",
   "metadata": {},
   "outputs": [
    {
     "name": "stdout",
     "output_type": "stream",
     "text": [
      "ubelubephubant\n"
     ]
    }
   ],
   "source": [
    "ubbi_dubbi(palavra)"
   ]
  }
 ],
 "metadata": {
  "kernelspec": {
   "display_name": "Python 3 (ipykernel)",
   "language": "python",
   "name": "python3"
  },
  "language_info": {
   "codemirror_mode": {
    "name": "ipython",
    "version": 3
   },
   "file_extension": ".py",
   "mimetype": "text/x-python",
   "name": "python",
   "nbconvert_exporter": "python",
   "pygments_lexer": "ipython3",
   "version": "3.9.12"
  }
 },
 "nbformat": 4,
 "nbformat_minor": 5
}
